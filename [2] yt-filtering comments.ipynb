{
 "cells": [
  {
   "cell_type": "code",
   "execution_count": 1,
   "metadata": {},
   "outputs": [],
   "source": [
    "import pandas as pd\n",
    "import numpy as np\n",
    "import time\n",
    "from datetime import datetime, timedelta"
   ]
  },
  {
   "cell_type": "code",
   "execution_count": 2,
   "metadata": {},
   "outputs": [],
   "source": [
    "df = pd.read_csv('raw/comments_all.csv', parse_dates=['published_at', 'updated_at'])"
   ]
  },
  {
   "cell_type": "code",
   "execution_count": 3,
   "metadata": {},
   "outputs": [
    {
     "name": "stdout",
     "output_type": "stream",
     "text": [
      "<class 'pandas.core.frame.DataFrame'>\n",
      "RangeIndex: 1686 entries, 0 to 1685\n",
      "Data columns (total 9 columns):\n",
      " #   Column         Non-Null Count  Dtype              \n",
      "---  ------         --------------  -----              \n",
      " 0   id_video       1686 non-null   object             \n",
      " 1   id_komentar    1686 non-null   object             \n",
      " 2   text_display   1686 non-null   object             \n",
      " 3   text_original  1686 non-null   object             \n",
      " 4   author_name    1685 non-null   object             \n",
      " 5   id_author      1686 non-null   object             \n",
      " 6   like_count     1686 non-null   int64              \n",
      " 7   published_at   1686 non-null   datetime64[ns, UTC]\n",
      " 8   updated_at     1686 non-null   datetime64[ns, UTC]\n",
      "dtypes: datetime64[ns, UTC](2), int64(1), object(6)\n",
      "memory usage: 118.7+ KB\n"
     ]
    }
   ],
   "source": [
    "df.info()"
   ]
  },
  {
   "cell_type": "code",
   "execution_count": 4,
   "metadata": {},
   "outputs": [
    {
     "data": {
      "text/plain": [
       "(1686, 9)"
      ]
     },
     "execution_count": 4,
     "metadata": {},
     "output_type": "execute_result"
    }
   ],
   "source": [
    "df.shape"
   ]
  },
  {
   "cell_type": "code",
   "execution_count": 5,
   "metadata": {},
   "outputs": [
    {
     "data": {
      "text/html": [
       "<div>\n",
       "<style scoped>\n",
       "    .dataframe tbody tr th:only-of-type {\n",
       "        vertical-align: middle;\n",
       "    }\n",
       "\n",
       "    .dataframe tbody tr th {\n",
       "        vertical-align: top;\n",
       "    }\n",
       "\n",
       "    .dataframe thead th {\n",
       "        text-align: right;\n",
       "    }\n",
       "</style>\n",
       "<table border=\"1\" class=\"dataframe\">\n",
       "  <thead>\n",
       "    <tr style=\"text-align: right;\">\n",
       "      <th></th>\n",
       "      <th>id_video</th>\n",
       "      <th>id_komentar</th>\n",
       "      <th>text_display</th>\n",
       "      <th>text_original</th>\n",
       "      <th>author_name</th>\n",
       "      <th>id_author</th>\n",
       "      <th>like_count</th>\n",
       "      <th>published_at</th>\n",
       "      <th>updated_at</th>\n",
       "    </tr>\n",
       "  </thead>\n",
       "  <tbody>\n",
       "    <tr>\n",
       "      <th>1202</th>\n",
       "      <td>HhxHvnM5MR0</td>\n",
       "      <td>Ugybg1q_oBGwHnw8TAV4AaABAg</td>\n",
       "      <td>Sy pernah dengar baterainya kl sdh 10 tahun, p...</td>\n",
       "      <td>Sy pernah dengar baterainya kl sdh 10 tahun, p...</td>\n",
       "      <td>@FATIH JR</td>\n",
       "      <td>UCyMkvqYNjNufvl2oGuJG-Mg</td>\n",
       "      <td>0</td>\n",
       "      <td>2023-06-07 02:56:09+00:00</td>\n",
       "      <td>2023-06-07 02:56:09+00:00</td>\n",
       "    </tr>\n",
       "    <tr>\n",
       "      <th>325</th>\n",
       "      <td>HhxHvnM5MR0</td>\n",
       "      <td>UgxcKiiVtP41b1HDytt4AaABAg</td>\n",
       "      <td>Harga misal 300jt.. Kn lumayan mahal.. terus k...</td>\n",
       "      <td>Harga misal 300jt.. Kn lumayan mahal.. terus k...</td>\n",
       "      <td>Andi Wiyana</td>\n",
       "      <td>UCgHyn1hZt9-jcR10sWbEFbw</td>\n",
       "      <td>0</td>\n",
       "      <td>2023-06-28 11:39:38+00:00</td>\n",
       "      <td>2023-06-28 11:39:38+00:00</td>\n",
       "    </tr>\n",
       "    <tr>\n",
       "      <th>341</th>\n",
       "      <td>HhxHvnM5MR0</td>\n",
       "      <td>UgzjUCpNmi8tETMFbTt4AaABAg</td>\n",
       "      <td>Coba di Jakarta, rameee... karna alesan ganjil...</td>\n",
       "      <td>Coba di Jakarta, rameee... karna alesan ganjil...</td>\n",
       "      <td>Arnold Sitohang</td>\n",
       "      <td>UCjdIQ1tKa054-bGNLii9Guw</td>\n",
       "      <td>1</td>\n",
       "      <td>2023-06-27 01:19:19+00:00</td>\n",
       "      <td>2023-06-27 01:19:19+00:00</td>\n",
       "    </tr>\n",
       "    <tr>\n",
       "      <th>1313</th>\n",
       "      <td>HhxHvnM5MR0</td>\n",
       "      <td>Ugwqv5jzhhmIpojgNit4AaABAg</td>\n",
       "      <td>Lebih banyak resikonya, bila mogok di tengah h...</td>\n",
       "      <td>Lebih banyak resikonya, bila mogok di tengah h...</td>\n",
       "      <td>bejo ndeso</td>\n",
       "      <td>UCiRyfYcVCy_hEX3ZrPSLipg</td>\n",
       "      <td>0</td>\n",
       "      <td>2023-06-06 23:29:35+00:00</td>\n",
       "      <td>2023-06-06 23:34:49+00:00</td>\n",
       "    </tr>\n",
       "    <tr>\n",
       "      <th>1130</th>\n",
       "      <td>HhxHvnM5MR0</td>\n",
       "      <td>Ugx1o1gWLyBiRmZnsDl4AaABAg</td>\n",
       "      <td>AWAS DIBODOHIN PEMERINTAH, NNTI LISYRIK DINAIK...</td>\n",
       "      <td>AWAS DIBODOHIN PEMERINTAH, NNTI LISYRIK DINAIK...</td>\n",
       "      <td>dowoh</td>\n",
       "      <td>UCetCRbdAAQWbY8lpRQ8iZtg</td>\n",
       "      <td>0</td>\n",
       "      <td>2023-06-07 04:47:38+00:00</td>\n",
       "      <td>2023-06-07 04:48:32+00:00</td>\n",
       "    </tr>\n",
       "  </tbody>\n",
       "</table>\n",
       "</div>"
      ],
      "text/plain": [
       "         id_video                 id_komentar   \n",
       "1202  HhxHvnM5MR0  Ugybg1q_oBGwHnw8TAV4AaABAg  \\\n",
       "325   HhxHvnM5MR0  UgxcKiiVtP41b1HDytt4AaABAg   \n",
       "341   HhxHvnM5MR0  UgzjUCpNmi8tETMFbTt4AaABAg   \n",
       "1313  HhxHvnM5MR0  Ugwqv5jzhhmIpojgNit4AaABAg   \n",
       "1130  HhxHvnM5MR0  Ugx1o1gWLyBiRmZnsDl4AaABAg   \n",
       "\n",
       "                                           text_display   \n",
       "1202  Sy pernah dengar baterainya kl sdh 10 tahun, p...  \\\n",
       "325   Harga misal 300jt.. Kn lumayan mahal.. terus k...   \n",
       "341   Coba di Jakarta, rameee... karna alesan ganjil...   \n",
       "1313  Lebih banyak resikonya, bila mogok di tengah h...   \n",
       "1130  AWAS DIBODOHIN PEMERINTAH, NNTI LISYRIK DINAIK...   \n",
       "\n",
       "                                          text_original      author_name   \n",
       "1202  Sy pernah dengar baterainya kl sdh 10 tahun, p...        @FATIH JR  \\\n",
       "325   Harga misal 300jt.. Kn lumayan mahal.. terus k...      Andi Wiyana   \n",
       "341   Coba di Jakarta, rameee... karna alesan ganjil...  Arnold Sitohang   \n",
       "1313  Lebih banyak resikonya, bila mogok di tengah h...       bejo ndeso   \n",
       "1130  AWAS DIBODOHIN PEMERINTAH, NNTI LISYRIK DINAIK...            dowoh   \n",
       "\n",
       "                     id_author  like_count              published_at   \n",
       "1202  UCyMkvqYNjNufvl2oGuJG-Mg           0 2023-06-07 02:56:09+00:00  \\\n",
       "325   UCgHyn1hZt9-jcR10sWbEFbw           0 2023-06-28 11:39:38+00:00   \n",
       "341   UCjdIQ1tKa054-bGNLii9Guw           1 2023-06-27 01:19:19+00:00   \n",
       "1313  UCiRyfYcVCy_hEX3ZrPSLipg           0 2023-06-06 23:29:35+00:00   \n",
       "1130  UCetCRbdAAQWbY8lpRQ8iZtg           0 2023-06-07 04:47:38+00:00   \n",
       "\n",
       "                    updated_at  \n",
       "1202 2023-06-07 02:56:09+00:00  \n",
       "325  2023-06-28 11:39:38+00:00  \n",
       "341  2023-06-27 01:19:19+00:00  \n",
       "1313 2023-06-06 23:34:49+00:00  \n",
       "1130 2023-06-07 04:48:32+00:00  "
      ]
     },
     "execution_count": 5,
     "metadata": {},
     "output_type": "execute_result"
    }
   ],
   "source": [
    "df.sample(5)"
   ]
  },
  {
   "cell_type": "markdown",
   "metadata": {},
   "source": [
    "### Hapus komentar yg berisi link"
   ]
  },
  {
   "cell_type": "code",
   "execution_count": 6,
   "metadata": {},
   "outputs": [
    {
     "data": {
      "text/html": [
       "<div>\n",
       "<style scoped>\n",
       "    .dataframe tbody tr th:only-of-type {\n",
       "        vertical-align: middle;\n",
       "    }\n",
       "\n",
       "    .dataframe tbody tr th {\n",
       "        vertical-align: top;\n",
       "    }\n",
       "\n",
       "    .dataframe thead th {\n",
       "        text-align: right;\n",
       "    }\n",
       "</style>\n",
       "<table border=\"1\" class=\"dataframe\">\n",
       "  <thead>\n",
       "    <tr style=\"text-align: right;\">\n",
       "      <th></th>\n",
       "      <th>id_video</th>\n",
       "      <th>id_komentar</th>\n",
       "      <th>text_display</th>\n",
       "      <th>text_original</th>\n",
       "      <th>author_name</th>\n",
       "      <th>id_author</th>\n",
       "      <th>like_count</th>\n",
       "      <th>published_at</th>\n",
       "      <th>updated_at</th>\n",
       "    </tr>\n",
       "  </thead>\n",
       "  <tbody>\n",
       "    <tr>\n",
       "      <th>210</th>\n",
       "      <td>HhxHvnM5MR0</td>\n",
       "      <td>UgzKJFHffC21JpM8aJN4AaABAg</td>\n",
       "      <td>COCAIN FOUND IN THE WHIT HOUSE???? REALLY????\\...</td>\n",
       "      <td>COCAIN FOUND IN THE WHIT HOUSE???? REALLY????\\...</td>\n",
       "      <td>AutoPilotX</td>\n",
       "      <td>UCbSFzWW4mrh2LNtoV6QGrIw</td>\n",
       "      <td>0</td>\n",
       "      <td>2023-07-05 03:12:44+00:00</td>\n",
       "      <td>2023-07-05 03:12:44+00:00</td>\n",
       "    </tr>\n",
       "    <tr>\n",
       "      <th>374</th>\n",
       "      <td>HhxHvnM5MR0</td>\n",
       "      <td>UgzOQ2gyXUW4l9UdkFZ4AaABAg</td>\n",
       "      <td>PRESiDEN YG SAMA SAMA PINTAR CERDAS BERANī BES...</td>\n",
       "      <td>PRESiDEN YG SAMA SAMA PINTAR CERDAS BERANī BES...</td>\n",
       "      <td>sarmento kints</td>\n",
       "      <td>UCwadCm__DYGgyqLStZe2B2g</td>\n",
       "      <td>0</td>\n",
       "      <td>2023-06-23 08:28:18+00:00</td>\n",
       "      <td>2023-06-23 08:28:18+00:00</td>\n",
       "    </tr>\n",
       "    <tr>\n",
       "      <th>375</th>\n",
       "      <td>HhxHvnM5MR0</td>\n",
       "      <td>UgzHKOZ05K1HZC3rmOJ4AaABAg</td>\n",
       "      <td>PRESiDEN YG SAMA SAMA PINTAR CERDAS BERANī BES...</td>\n",
       "      <td>PRESiDEN YG SAMA SAMA PINTAR CERDAS BERANī BES...</td>\n",
       "      <td>sarmento kints</td>\n",
       "      <td>UCwadCm__DYGgyqLStZe2B2g</td>\n",
       "      <td>0</td>\n",
       "      <td>2023-06-23 08:28:07+00:00</td>\n",
       "      <td>2023-06-23 08:28:07+00:00</td>\n",
       "    </tr>\n",
       "  </tbody>\n",
       "</table>\n",
       "</div>"
      ],
      "text/plain": [
       "        id_video                 id_komentar   \n",
       "210  HhxHvnM5MR0  UgzKJFHffC21JpM8aJN4AaABAg  \\\n",
       "374  HhxHvnM5MR0  UgzOQ2gyXUW4l9UdkFZ4AaABAg   \n",
       "375  HhxHvnM5MR0  UgzHKOZ05K1HZC3rmOJ4AaABAg   \n",
       "\n",
       "                                          text_display   \n",
       "210  COCAIN FOUND IN THE WHIT HOUSE???? REALLY????\\...  \\\n",
       "374  PRESiDEN YG SAMA SAMA PINTAR CERDAS BERANī BES...   \n",
       "375  PRESiDEN YG SAMA SAMA PINTAR CERDAS BERANī BES...   \n",
       "\n",
       "                                         text_original     author_name   \n",
       "210  COCAIN FOUND IN THE WHIT HOUSE???? REALLY????\\...      AutoPilotX  \\\n",
       "374  PRESiDEN YG SAMA SAMA PINTAR CERDAS BERANī BES...  sarmento kints   \n",
       "375  PRESiDEN YG SAMA SAMA PINTAR CERDAS BERANī BES...  sarmento kints   \n",
       "\n",
       "                    id_author  like_count              published_at   \n",
       "210  UCbSFzWW4mrh2LNtoV6QGrIw           0 2023-07-05 03:12:44+00:00  \\\n",
       "374  UCwadCm__DYGgyqLStZe2B2g           0 2023-06-23 08:28:18+00:00   \n",
       "375  UCwadCm__DYGgyqLStZe2B2g           0 2023-06-23 08:28:07+00:00   \n",
       "\n",
       "                   updated_at  \n",
       "210 2023-07-05 03:12:44+00:00  \n",
       "374 2023-06-23 08:28:18+00:00  \n",
       "375 2023-06-23 08:28:07+00:00  "
      ]
     },
     "execution_count": 6,
     "metadata": {},
     "output_type": "execute_result"
    }
   ],
   "source": [
    "df.loc[df.text_display.str.contains('http')]"
   ]
  },
  {
   "cell_type": "code",
   "execution_count": 7,
   "metadata": {},
   "outputs": [
    {
     "data": {
      "text/plain": [
       "(1683, 9)"
      ]
     },
     "execution_count": 7,
     "metadata": {},
     "output_type": "execute_result"
    }
   ],
   "source": [
    "df2 = df[~df.text_display.str.contains('http')]\n",
    "df2.shape"
   ]
  },
  {
   "cell_type": "markdown",
   "metadata": {},
   "source": [
    "### Buang komentar yang panjangnya kurang dari 20"
   ]
  },
  {
   "cell_type": "markdown",
   "metadata": {},
   "source": [
    "Tidak ada standar pasti untuk menentukan panjang karakter minimum atau maksimum dalam analisis sentimen komentar di YouTube. Hal ini dapat bervariasi tergantung pada tujuan dan konteks penelitian yang dilakukan.\n",
    "\n",
    "Namun, dalam kasus ini, kemungkinan panjang karakter minimum 40 digunakan untuk melakukan filter pada komentar yang relatif pendek dan kurang informatif dalam membangun sentimen terhadap pembangunan infrastruktur. Komentar yang sangat pendek mungkin kurang representatif dan tidak memadai untuk menggambarkan sentimen yang sebenarnya dari masyarakat terhadap topik tersebut. Oleh karena itu, filter ini bertujuan untuk meningkatkan kualitas analisis sentimen dan menghindari noise atau data yang tidak relevan."
   ]
  },
  {
   "cell_type": "code",
   "execution_count": 8,
   "metadata": {},
   "outputs": [
    {
     "data": {
      "text/plain": [
       "(82, 9)"
      ]
     },
     "execution_count": 8,
     "metadata": {},
     "output_type": "execute_result"
    }
   ],
   "source": [
    "df2.loc[df2.text_display.str.len()<20].shape"
   ]
  },
  {
   "cell_type": "code",
   "execution_count": 9,
   "metadata": {},
   "outputs": [
    {
     "data": {
      "text/html": [
       "<div>\n",
       "<style scoped>\n",
       "    .dataframe tbody tr th:only-of-type {\n",
       "        vertical-align: middle;\n",
       "    }\n",
       "\n",
       "    .dataframe tbody tr th {\n",
       "        vertical-align: top;\n",
       "    }\n",
       "\n",
       "    .dataframe thead th {\n",
       "        text-align: right;\n",
       "    }\n",
       "</style>\n",
       "<table border=\"1\" class=\"dataframe\">\n",
       "  <thead>\n",
       "    <tr style=\"text-align: right;\">\n",
       "      <th></th>\n",
       "      <th>id_video</th>\n",
       "      <th>id_komentar</th>\n",
       "      <th>text_display</th>\n",
       "      <th>text_original</th>\n",
       "      <th>author_name</th>\n",
       "      <th>id_author</th>\n",
       "      <th>like_count</th>\n",
       "      <th>published_at</th>\n",
       "      <th>updated_at</th>\n",
       "    </tr>\n",
       "  </thead>\n",
       "  <tbody>\n",
       "    <tr>\n",
       "      <th>48</th>\n",
       "      <td>v1nRodTVq5A</td>\n",
       "      <td>Ugy4okXCQt9rL6eXmlx4AaABAg</td>\n",
       "      <td>Bangsa kocak</td>\n",
       "      <td>Bangsa kocak</td>\n",
       "      <td>Carolos Wicaksono</td>\n",
       "      <td>UCOG3MLI8SvjOZvKhMktu_KQ</td>\n",
       "      <td>0</td>\n",
       "      <td>2022-12-17 11:58:46+00:00</td>\n",
       "      <td>2022-12-17 11:58:46+00:00</td>\n",
       "    </tr>\n",
       "    <tr>\n",
       "      <th>305</th>\n",
       "      <td>HhxHvnM5MR0</td>\n",
       "      <td>UgxcpDmJztNZyI7rXmd4AaABAg</td>\n",
       "      <td>MAHAL INTINYA!</td>\n",
       "      <td>MAHAL INTINYA!</td>\n",
       "      <td>anonim091 174</td>\n",
       "      <td>UCne2yy5QWX1yLl6bczgDa0w</td>\n",
       "      <td>0</td>\n",
       "      <td>2023-06-29 11:39:15+00:00</td>\n",
       "      <td>2023-06-29 11:39:15+00:00</td>\n",
       "    </tr>\n",
       "    <tr>\n",
       "      <th>921</th>\n",
       "      <td>HhxHvnM5MR0</td>\n",
       "      <td>UgyuD1j3z0lvTrOl58x4AaABAg</td>\n",
       "      <td>Opung mkin kaya</td>\n",
       "      <td>Opung mkin kaya</td>\n",
       "      <td>Ontong</td>\n",
       "      <td>UCbHdOpOGz_nDZTHv0sWvMtw</td>\n",
       "      <td>0</td>\n",
       "      <td>2023-06-07 12:25:17+00:00</td>\n",
       "      <td>2023-06-07 12:25:17+00:00</td>\n",
       "    </tr>\n",
       "    <tr>\n",
       "      <th>645</th>\n",
       "      <td>HhxHvnM5MR0</td>\n",
       "      <td>UgyvDzByRFMZReVDYP94AaABAg</td>\n",
       "      <td>😅</td>\n",
       "      <td>😅</td>\n",
       "      <td>bumi gonjang ganjing</td>\n",
       "      <td>UCbxEfcVmpwoQ3-N7no3_AAQ</td>\n",
       "      <td>0</td>\n",
       "      <td>2023-06-09 18:46:12+00:00</td>\n",
       "      <td>2023-06-09 18:46:12+00:00</td>\n",
       "    </tr>\n",
       "  </tbody>\n",
       "</table>\n",
       "</div>"
      ],
      "text/plain": [
       "        id_video                 id_komentar     text_display   \n",
       "48   v1nRodTVq5A  Ugy4okXCQt9rL6eXmlx4AaABAg     Bangsa kocak  \\\n",
       "305  HhxHvnM5MR0  UgxcpDmJztNZyI7rXmd4AaABAg   MAHAL INTINYA!   \n",
       "921  HhxHvnM5MR0  UgyuD1j3z0lvTrOl58x4AaABAg  Opung mkin kaya   \n",
       "645  HhxHvnM5MR0  UgyvDzByRFMZReVDYP94AaABAg                😅   \n",
       "\n",
       "       text_original           author_name                 id_author   \n",
       "48      Bangsa kocak     Carolos Wicaksono  UCOG3MLI8SvjOZvKhMktu_KQ  \\\n",
       "305   MAHAL INTINYA!         anonim091 174  UCne2yy5QWX1yLl6bczgDa0w   \n",
       "921  Opung mkin kaya                Ontong  UCbHdOpOGz_nDZTHv0sWvMtw   \n",
       "645                😅  bumi gonjang ganjing  UCbxEfcVmpwoQ3-N7no3_AAQ   \n",
       "\n",
       "     like_count              published_at                updated_at  \n",
       "48            0 2022-12-17 11:58:46+00:00 2022-12-17 11:58:46+00:00  \n",
       "305           0 2023-06-29 11:39:15+00:00 2023-06-29 11:39:15+00:00  \n",
       "921           0 2023-06-07 12:25:17+00:00 2023-06-07 12:25:17+00:00  \n",
       "645           0 2023-06-09 18:46:12+00:00 2023-06-09 18:46:12+00:00  "
      ]
     },
     "execution_count": 9,
     "metadata": {},
     "output_type": "execute_result"
    }
   ],
   "source": [
    "df2.loc[df2.text_display.str.len()<20].sample(4)"
   ]
  },
  {
   "cell_type": "code",
   "execution_count": 10,
   "metadata": {},
   "outputs": [
    {
     "data": {
      "text/plain": [
       "(1601, 9)"
      ]
     },
     "execution_count": 10,
     "metadata": {},
     "output_type": "execute_result"
    }
   ],
   "source": [
    "df2 = df2[df2.text_display.str.len()>=20]\n",
    "df2.shape"
   ]
  },
  {
   "cell_type": "markdown",
   "metadata": {},
   "source": [
    "### Komentar dari user yang sama"
   ]
  },
  {
   "cell_type": "code",
   "execution_count": 11,
   "metadata": {},
   "outputs": [
    {
     "data": {
      "text/plain": [
       "84"
      ]
     },
     "execution_count": 11,
     "metadata": {},
     "output_type": "execute_result"
    }
   ],
   "source": [
    "# Jumlah row yang dibuang\n",
    "len([x for x in df2.duplicated(subset=['id_author'], keep='first') if x==True])"
   ]
  },
  {
   "cell_type": "code",
   "execution_count": 12,
   "metadata": {},
   "outputs": [
    {
     "data": {
      "text/html": [
       "<div>\n",
       "<style scoped>\n",
       "    .dataframe tbody tr th:only-of-type {\n",
       "        vertical-align: middle;\n",
       "    }\n",
       "\n",
       "    .dataframe tbody tr th {\n",
       "        vertical-align: top;\n",
       "    }\n",
       "\n",
       "    .dataframe thead th {\n",
       "        text-align: right;\n",
       "    }\n",
       "</style>\n",
       "<table border=\"1\" class=\"dataframe\">\n",
       "  <thead>\n",
       "    <tr style=\"text-align: right;\">\n",
       "      <th></th>\n",
       "      <th>id_video</th>\n",
       "      <th>id_komentar</th>\n",
       "      <th>text_display</th>\n",
       "      <th>text_original</th>\n",
       "      <th>author_name</th>\n",
       "      <th>id_author</th>\n",
       "      <th>like_count</th>\n",
       "      <th>published_at</th>\n",
       "      <th>updated_at</th>\n",
       "    </tr>\n",
       "  </thead>\n",
       "  <tbody>\n",
       "    <tr>\n",
       "      <th>1451</th>\n",
       "      <td>HhxHvnM5MR0</td>\n",
       "      <td>UgwyekboxkneSFpBo2Z4AaABAg</td>\n",
       "      <td>Dari pada buat Subsidi, mending buat Lunasi ut...</td>\n",
       "      <td>Dari pada buat Subsidi, mending buat Lunasi ut...</td>\n",
       "      <td>Arief HadiSusanto</td>\n",
       "      <td>UCvRNc_R-FgBQOs0_Of-KVkg</td>\n",
       "      <td>0</td>\n",
       "      <td>2023-06-06 15:24:47+00:00</td>\n",
       "      <td>2023-06-06 15:24:47+00:00</td>\n",
       "    </tr>\n",
       "    <tr>\n",
       "      <th>1444</th>\n",
       "      <td>HhxHvnM5MR0</td>\n",
       "      <td>UgwtjnvxzI-4AkuofE54AaABAg</td>\n",
       "      <td>Pejabat suruh Makai dulu... kalau ada permasal...</td>\n",
       "      <td>Pejabat suruh Makai dulu... kalau ada permasal...</td>\n",
       "      <td>anshori mawardi</td>\n",
       "      <td>UCx6VfpCELOmHlQjxyMj5saA</td>\n",
       "      <td>1</td>\n",
       "      <td>2023-06-06 15:31:07+00:00</td>\n",
       "      <td>2023-06-06 15:31:07+00:00</td>\n",
       "    </tr>\n",
       "    <tr>\n",
       "      <th>1439</th>\n",
       "      <td>HhxHvnM5MR0</td>\n",
       "      <td>Ugw-I2gZ6_mfe33C4cR4AaABAg</td>\n",
       "      <td>Pemerintah dan lembaga pemerintah Suruh pakai ...</td>\n",
       "      <td>Pemerintah dan lembaga pemerintah Suruh pakai ...</td>\n",
       "      <td>anshori mawardi</td>\n",
       "      <td>UCx6VfpCELOmHlQjxyMj5saA</td>\n",
       "      <td>0</td>\n",
       "      <td>2023-06-06 15:34:42+00:00</td>\n",
       "      <td>2023-06-06 15:34:42+00:00</td>\n",
       "    </tr>\n",
       "    <tr>\n",
       "      <th>1412</th>\n",
       "      <td>HhxHvnM5MR0</td>\n",
       "      <td>Ugx9t4RYyymM_QM9gDd4AaABAg</td>\n",
       "      <td>ev kendaraan listrik ga efiesien karna limbah ...</td>\n",
       "      <td>ev kendaraan listrik ga efiesien karna limbah ...</td>\n",
       "      <td>Riki</td>\n",
       "      <td>UCz-IP1veQ4meKxviPJC295g</td>\n",
       "      <td>0</td>\n",
       "      <td>2023-06-06 16:42:36+00:00</td>\n",
       "      <td>2023-06-06 16:42:36+00:00</td>\n",
       "    </tr>\n",
       "    <tr>\n",
       "      <th>54</th>\n",
       "      <td>v1nRodTVq5A</td>\n",
       "      <td>UgzHRT-mvhQyQgDXNpN4AaABAg</td>\n",
       "      <td>tapi mobil listrik hyundai dapet insentif tete...</td>\n",
       "      <td>tapi mobil listrik hyundai dapet insentif tete...</td>\n",
       "      <td>Riki</td>\n",
       "      <td>UCz-IP1veQ4meKxviPJC295g</td>\n",
       "      <td>0</td>\n",
       "      <td>2022-12-16 17:24:04+00:00</td>\n",
       "      <td>2022-12-16 17:24:04+00:00</td>\n",
       "    </tr>\n",
       "  </tbody>\n",
       "</table>\n",
       "</div>"
      ],
      "text/plain": [
       "         id_video                 id_komentar   \n",
       "1451  HhxHvnM5MR0  UgwyekboxkneSFpBo2Z4AaABAg  \\\n",
       "1444  HhxHvnM5MR0  UgwtjnvxzI-4AkuofE54AaABAg   \n",
       "1439  HhxHvnM5MR0  Ugw-I2gZ6_mfe33C4cR4AaABAg   \n",
       "1412  HhxHvnM5MR0  Ugx9t4RYyymM_QM9gDd4AaABAg   \n",
       "54    v1nRodTVq5A  UgzHRT-mvhQyQgDXNpN4AaABAg   \n",
       "\n",
       "                                           text_display   \n",
       "1451  Dari pada buat Subsidi, mending buat Lunasi ut...  \\\n",
       "1444  Pejabat suruh Makai dulu... kalau ada permasal...   \n",
       "1439  Pemerintah dan lembaga pemerintah Suruh pakai ...   \n",
       "1412  ev kendaraan listrik ga efiesien karna limbah ...   \n",
       "54    tapi mobil listrik hyundai dapet insentif tete...   \n",
       "\n",
       "                                          text_original        author_name   \n",
       "1451  Dari pada buat Subsidi, mending buat Lunasi ut...  Arief HadiSusanto  \\\n",
       "1444  Pejabat suruh Makai dulu... kalau ada permasal...    anshori mawardi   \n",
       "1439  Pemerintah dan lembaga pemerintah Suruh pakai ...    anshori mawardi   \n",
       "1412  ev kendaraan listrik ga efiesien karna limbah ...               Riki   \n",
       "54    tapi mobil listrik hyundai dapet insentif tete...               Riki   \n",
       "\n",
       "                     id_author  like_count              published_at   \n",
       "1451  UCvRNc_R-FgBQOs0_Of-KVkg           0 2023-06-06 15:24:47+00:00  \\\n",
       "1444  UCx6VfpCELOmHlQjxyMj5saA           1 2023-06-06 15:31:07+00:00   \n",
       "1439  UCx6VfpCELOmHlQjxyMj5saA           0 2023-06-06 15:34:42+00:00   \n",
       "1412  UCz-IP1veQ4meKxviPJC295g           0 2023-06-06 16:42:36+00:00   \n",
       "54    UCz-IP1veQ4meKxviPJC295g           0 2022-12-16 17:24:04+00:00   \n",
       "\n",
       "                    updated_at  \n",
       "1451 2023-06-06 15:24:47+00:00  \n",
       "1444 2023-06-06 15:31:07+00:00  \n",
       "1439 2023-06-06 15:34:42+00:00  \n",
       "1412 2023-06-06 16:42:36+00:00  \n",
       "54   2022-12-16 17:24:04+00:00  "
      ]
     },
     "execution_count": 12,
     "metadata": {},
     "output_type": "execute_result"
    }
   ],
   "source": [
    "df2[df2.duplicated(subset=['id_author'], keep=False)].sort_values('id_author').tail(5)"
   ]
  },
  {
   "cell_type": "code",
   "execution_count": 13,
   "metadata": {},
   "outputs": [
    {
     "data": {
      "text/plain": [
       "(1517, 9)"
      ]
     },
     "execution_count": 13,
     "metadata": {},
     "output_type": "execute_result"
    }
   ],
   "source": [
    "df2 = df2[~df2.duplicated(subset=['id_author'], keep='first')]\n",
    "df2.shape"
   ]
  },
  {
   "cell_type": "markdown",
   "metadata": {},
   "source": [
    "### Export"
   ]
  },
  {
   "cell_type": "code",
   "execution_count": 14,
   "metadata": {},
   "outputs": [],
   "source": [
    "# df3 = df2.sample(1000).sort_values(['updated_at'],ascending=False).reset_index(drop=True)\n",
    "cols = ['id_video', 'id_komentar', 'id_author', 'author_name', 'like_count', 'text_original', 'text_display', 'updated_at']\n",
    "df3 = df2[cols].sort_values(['updated_at'],ascending=False).reset_index(drop=True).copy()"
   ]
  },
  {
   "cell_type": "code",
   "execution_count": 15,
   "metadata": {},
   "outputs": [
    {
     "data": {
      "text/html": [
       "<div>\n",
       "<style scoped>\n",
       "    .dataframe tbody tr th:only-of-type {\n",
       "        vertical-align: middle;\n",
       "    }\n",
       "\n",
       "    .dataframe tbody tr th {\n",
       "        vertical-align: top;\n",
       "    }\n",
       "\n",
       "    .dataframe thead th {\n",
       "        text-align: right;\n",
       "    }\n",
       "</style>\n",
       "<table border=\"1\" class=\"dataframe\">\n",
       "  <thead>\n",
       "    <tr style=\"text-align: right;\">\n",
       "      <th></th>\n",
       "      <th>id_video</th>\n",
       "      <th>id_komentar</th>\n",
       "      <th>id_author</th>\n",
       "      <th>author_name</th>\n",
       "      <th>like_count</th>\n",
       "      <th>text_original</th>\n",
       "      <th>text_display</th>\n",
       "      <th>updated_at</th>\n",
       "    </tr>\n",
       "  </thead>\n",
       "  <tbody>\n",
       "    <tr>\n",
       "      <th>0</th>\n",
       "      <td>HhxHvnM5MR0</td>\n",
       "      <td>Ugzbll5eyrIy3-gdUUJ4AaABAg</td>\n",
       "      <td>UCyRDOEXZJn8YVwFx2_vo8iA</td>\n",
       "      <td>Sqn Ldr</td>\n",
       "      <td>0</td>\n",
       "      <td>Saran sih\\n\\n\\nBikin aja harga ionic 5 itu sam...</td>\n",
       "      <td>Saran sih\\n\\n\\nBikin aja harga ionic 5 itu sam...</td>\n",
       "      <td>2023-08-06 12:54:49+00:00</td>\n",
       "    </tr>\n",
       "    <tr>\n",
       "      <th>1</th>\n",
       "      <td>LwsAbFCexC4</td>\n",
       "      <td>UgzEDUiV3OTrV943p8p4AaABAg</td>\n",
       "      <td>UCtWNFzhiA_RTRYmpHL2v_OQ</td>\n",
       "      <td>lushen ace</td>\n",
       "      <td>0</td>\n",
       "      <td>Problemnya subsidi, kualitas diturunin harga d...</td>\n",
       "      <td>Problemnya subsidi, kualitas diturunin harga d...</td>\n",
       "      <td>2023-08-04 12:16:23+00:00</td>\n",
       "    </tr>\n",
       "    <tr>\n",
       "      <th>2</th>\n",
       "      <td>LwsAbFCexC4</td>\n",
       "      <td>UgwqJqu6JMF4EH2CsVV4AaABAg</td>\n",
       "      <td>UCgG8d9geUyCNv4d6QtbiWsg</td>\n",
       "      <td>Fatih Al-Ayyubi</td>\n",
       "      <td>0</td>\n",
       "      <td>Sebaiknya KUALITASNYA dikembangkan dulu biar s...</td>\n",
       "      <td>Sebaiknya KUALITASNYA dikembangkan dulu biar s...</td>\n",
       "      <td>2023-08-04 10:17:57+00:00</td>\n",
       "    </tr>\n",
       "    <tr>\n",
       "      <th>3</th>\n",
       "      <td>LwsAbFCexC4</td>\n",
       "      <td>UgyYicCMR1rKwuOj2Y14AaABAg</td>\n",
       "      <td>UCFEF5ffNlavAwYUqtOLB4jA</td>\n",
       "      <td>yp office</td>\n",
       "      <td>0</td>\n",
       "      <td>Model jelek..kwalitas buruk...harga mahal.😂😂😂😂...</td>\n",
       "      <td>Model jelek..kwalitas buruk...harga mahal.😂😂😂😂...</td>\n",
       "      <td>2023-08-04 08:29:54+00:00</td>\n",
       "    </tr>\n",
       "    <tr>\n",
       "      <th>4</th>\n",
       "      <td>LwsAbFCexC4</td>\n",
       "      <td>UgxKAcLuAwZOQK6es-x4AaABAg</td>\n",
       "      <td>UCMBWFNWtWysG6kIudDCxNRg</td>\n",
       "      <td>Lembur Kuring</td>\n",
       "      <td>0</td>\n",
       "      <td>Syarat yg ngaco..\\nWoy anak muda yg blom punya...</td>\n",
       "      <td>Syarat yg ngaco..\\nWoy anak muda yg blom punya...</td>\n",
       "      <td>2023-08-04 07:55:37+00:00</td>\n",
       "    </tr>\n",
       "    <tr>\n",
       "      <th>...</th>\n",
       "      <td>...</td>\n",
       "      <td>...</td>\n",
       "      <td>...</td>\n",
       "      <td>...</td>\n",
       "      <td>...</td>\n",
       "      <td>...</td>\n",
       "      <td>...</td>\n",
       "      <td>...</td>\n",
       "    </tr>\n",
       "    <tr>\n",
       "      <th>1512</th>\n",
       "      <td>vcYl23LFOm8</td>\n",
       "      <td>UgxJPeJSdLI9a7L_adx4AaABAg</td>\n",
       "      <td>UCDv9eF04IDkIzVONQZKlFsA</td>\n",
       "      <td>Fish aquspace</td>\n",
       "      <td>0</td>\n",
       "      <td>Mobil selo apa kabar? Padahal bibit dalam negr...</td>\n",
       "      <td>Mobil selo apa kabar? Padahal bibit dalam negr...</td>\n",
       "      <td>2022-09-19 12:30:44+00:00</td>\n",
       "    </tr>\n",
       "    <tr>\n",
       "      <th>1513</th>\n",
       "      <td>vcYl23LFOm8</td>\n",
       "      <td>UgyHzUNyXtjxftnySNF4AaABAg</td>\n",
       "      <td>UCr8AKNB0qjDCHvjfbS6VN5Q</td>\n",
       "      <td>Elias Panai</td>\n",
       "      <td>1</td>\n",
       "      <td>Hanya bisa tuk antar anak sekolah,dan antar pe...</td>\n",
       "      <td>Hanya bisa tuk antar anak sekolah,dan antar pe...</td>\n",
       "      <td>2022-09-19 12:27:18+00:00</td>\n",
       "    </tr>\n",
       "    <tr>\n",
       "      <th>1514</th>\n",
       "      <td>vcYl23LFOm8</td>\n",
       "      <td>UgxbIAGGO6Jt50q6wT94AaABAg</td>\n",
       "      <td>UCPc2n3eaxQ7CB5S5Z4kZ2nQ</td>\n",
       "      <td>Mikhanalont Horassss</td>\n",
       "      <td>1</td>\n",
       "      <td>Rip Esemka kebanggaan solo 🤣🤣🤣🤣</td>\n",
       "      <td>Rip Esemka kebanggaan solo 🤣🤣🤣🤣</td>\n",
       "      <td>2022-09-19 12:23:06+00:00</td>\n",
       "    </tr>\n",
       "    <tr>\n",
       "      <th>1515</th>\n",
       "      <td>vcYl23LFOm8</td>\n",
       "      <td>UgyRNiIV6k2t21V4iMN4AaABAg</td>\n",
       "      <td>UCqKIw4Jb3Wa9hEEuV5IyebA</td>\n",
       "      <td>ANI ANI SOFIE</td>\n",
       "      <td>2</td>\n",
       "      <td>HRS CERDASS KITA2. ORG  !!  HNY UT NGANTORAN. ...</td>\n",
       "      <td>HRS CERDASS KITA2. ORG  !!  HNY UT NGANTORAN. ...</td>\n",
       "      <td>2022-09-19 11:48:39+00:00</td>\n",
       "    </tr>\n",
       "    <tr>\n",
       "      <th>1516</th>\n",
       "      <td>vcYl23LFOm8</td>\n",
       "      <td>UgyUFUCTdK_RJFsYwQV4AaABAg</td>\n",
       "      <td>UC_rXM6Ni8qouX7f2DpZn8NQ</td>\n",
       "      <td>La Bold</td>\n",
       "      <td>2</td>\n",
       "      <td>niat beli EV biar murah, eh malah listriknya i...</td>\n",
       "      <td>niat beli EV biar murah, eh malah listriknya i...</td>\n",
       "      <td>2022-09-19 11:41:32+00:00</td>\n",
       "    </tr>\n",
       "  </tbody>\n",
       "</table>\n",
       "<p>1517 rows × 8 columns</p>\n",
       "</div>"
      ],
      "text/plain": [
       "         id_video                 id_komentar                 id_author   \n",
       "0     HhxHvnM5MR0  Ugzbll5eyrIy3-gdUUJ4AaABAg  UCyRDOEXZJn8YVwFx2_vo8iA  \\\n",
       "1     LwsAbFCexC4  UgzEDUiV3OTrV943p8p4AaABAg  UCtWNFzhiA_RTRYmpHL2v_OQ   \n",
       "2     LwsAbFCexC4  UgwqJqu6JMF4EH2CsVV4AaABAg  UCgG8d9geUyCNv4d6QtbiWsg   \n",
       "3     LwsAbFCexC4  UgyYicCMR1rKwuOj2Y14AaABAg  UCFEF5ffNlavAwYUqtOLB4jA   \n",
       "4     LwsAbFCexC4  UgxKAcLuAwZOQK6es-x4AaABAg  UCMBWFNWtWysG6kIudDCxNRg   \n",
       "...           ...                         ...                       ...   \n",
       "1512  vcYl23LFOm8  UgxJPeJSdLI9a7L_adx4AaABAg  UCDv9eF04IDkIzVONQZKlFsA   \n",
       "1513  vcYl23LFOm8  UgyHzUNyXtjxftnySNF4AaABAg  UCr8AKNB0qjDCHvjfbS6VN5Q   \n",
       "1514  vcYl23LFOm8  UgxbIAGGO6Jt50q6wT94AaABAg  UCPc2n3eaxQ7CB5S5Z4kZ2nQ   \n",
       "1515  vcYl23LFOm8  UgyRNiIV6k2t21V4iMN4AaABAg  UCqKIw4Jb3Wa9hEEuV5IyebA   \n",
       "1516  vcYl23LFOm8  UgyUFUCTdK_RJFsYwQV4AaABAg  UC_rXM6Ni8qouX7f2DpZn8NQ   \n",
       "\n",
       "               author_name  like_count   \n",
       "0                  Sqn Ldr           0  \\\n",
       "1               lushen ace           0   \n",
       "2          Fatih Al-Ayyubi           0   \n",
       "3                yp office           0   \n",
       "4            Lembur Kuring           0   \n",
       "...                    ...         ...   \n",
       "1512         Fish aquspace           0   \n",
       "1513           Elias Panai           1   \n",
       "1514  Mikhanalont Horassss           1   \n",
       "1515         ANI ANI SOFIE           2   \n",
       "1516               La Bold           2   \n",
       "\n",
       "                                          text_original   \n",
       "0     Saran sih\\n\\n\\nBikin aja harga ionic 5 itu sam...  \\\n",
       "1     Problemnya subsidi, kualitas diturunin harga d...   \n",
       "2     Sebaiknya KUALITASNYA dikembangkan dulu biar s...   \n",
       "3     Model jelek..kwalitas buruk...harga mahal.😂😂😂😂...   \n",
       "4     Syarat yg ngaco..\\nWoy anak muda yg blom punya...   \n",
       "...                                                 ...   \n",
       "1512  Mobil selo apa kabar? Padahal bibit dalam negr...   \n",
       "1513  Hanya bisa tuk antar anak sekolah,dan antar pe...   \n",
       "1514                    Rip Esemka kebanggaan solo 🤣🤣🤣🤣   \n",
       "1515  HRS CERDASS KITA2. ORG  !!  HNY UT NGANTORAN. ...   \n",
       "1516  niat beli EV biar murah, eh malah listriknya i...   \n",
       "\n",
       "                                           text_display   \n",
       "0     Saran sih\\n\\n\\nBikin aja harga ionic 5 itu sam...  \\\n",
       "1     Problemnya subsidi, kualitas diturunin harga d...   \n",
       "2     Sebaiknya KUALITASNYA dikembangkan dulu biar s...   \n",
       "3     Model jelek..kwalitas buruk...harga mahal.😂😂😂😂...   \n",
       "4     Syarat yg ngaco..\\nWoy anak muda yg blom punya...   \n",
       "...                                                 ...   \n",
       "1512  Mobil selo apa kabar? Padahal bibit dalam negr...   \n",
       "1513  Hanya bisa tuk antar anak sekolah,dan antar pe...   \n",
       "1514                    Rip Esemka kebanggaan solo 🤣🤣🤣🤣   \n",
       "1515  HRS CERDASS KITA2. ORG  !!  HNY UT NGANTORAN. ...   \n",
       "1516  niat beli EV biar murah, eh malah listriknya i...   \n",
       "\n",
       "                    updated_at  \n",
       "0    2023-08-06 12:54:49+00:00  \n",
       "1    2023-08-04 12:16:23+00:00  \n",
       "2    2023-08-04 10:17:57+00:00  \n",
       "3    2023-08-04 08:29:54+00:00  \n",
       "4    2023-08-04 07:55:37+00:00  \n",
       "...                        ...  \n",
       "1512 2022-09-19 12:30:44+00:00  \n",
       "1513 2022-09-19 12:27:18+00:00  \n",
       "1514 2022-09-19 12:23:06+00:00  \n",
       "1515 2022-09-19 11:48:39+00:00  \n",
       "1516 2022-09-19 11:41:32+00:00  \n",
       "\n",
       "[1517 rows x 8 columns]"
      ]
     },
     "execution_count": 15,
     "metadata": {},
     "output_type": "execute_result"
    }
   ],
   "source": [
    "df3"
   ]
  },
  {
   "cell_type": "code",
   "execution_count": 16,
   "metadata": {},
   "outputs": [],
   "source": [
    "df3.to_csv('ytcomments_all.csv', index=False)\n",
    "\n",
    "# Slice dataframe\n",
    "#size = 1000\n",
    "#for i in range(0, len(df3), size):\n",
    "#    df3[i:i+size].to_csv(f'data\\\\ytcomments_{i}-{i+size if i+size < len(df3) else len(df3)}.csv', index=False)"
   ]
  },
  {
   "cell_type": "code",
   "execution_count": 17,
   "metadata": {},
   "outputs": [
    {
     "data": {
      "text/plain": [
       "id_video\n",
       "HhxHvnM5MR0    186\n",
       "LwsAbFCexC4      2\n",
       "e0nGMg-t12Y      2\n",
       "v1nRodTVq5A      2\n",
       "vxc7gA0CBV8      1\n",
       "5YLmj0amH54      1\n",
       "mwxTPv5XrPM      1\n",
       "vcYl23LFOm8      1\n",
       "Name: count, dtype: int64"
      ]
     },
     "execution_count": 17,
     "metadata": {},
     "output_type": "execute_result"
    }
   ],
   "source": [
    "# Mengecek jumalh kemunculan kata\n",
    "df3[df3.text_original.str.contains('mahal')].id_video.value_counts()"
   ]
  },
  {
   "cell_type": "code",
   "execution_count": 18,
   "metadata": {},
   "outputs": [
    {
     "name": "stdout",
     "output_type": "stream",
     "text": [
      "id_video\n",
      "HhxHvnM5MR0    1349\n",
      "5YLmj0amH54      52\n",
      "v1nRodTVq5A      29\n",
      "vxc7gA0CBV8      20\n",
      "mwxTPv5XrPM      20\n",
      "vcYl23LFOm8      12\n",
      "LwsAbFCexC4      11\n",
      "e0nGMg-t12Y      11\n",
      "BpOtNSwv8e0       7\n",
      "K9jv4OaATTI       6\n",
      "Name: count, dtype: int64\n"
     ]
    }
   ],
   "source": [
    "comments_count = df3['id_video'].value_counts()\n",
    "print(comments_count)\n"
   ]
  },
  {
   "cell_type": "code",
   "execution_count": null,
   "metadata": {},
   "outputs": [],
   "source": []
  }
 ],
 "metadata": {
  "kernelspec": {
   "display_name": "Python 3 (ipykernel)",
   "language": "python",
   "name": "python3"
  },
  "language_info": {
   "codemirror_mode": {
    "name": "ipython",
    "version": 3
   },
   "file_extension": ".py",
   "mimetype": "text/x-python",
   "name": "python",
   "nbconvert_exporter": "python",
   "pygments_lexer": "ipython3",
   "version": "3.10.4"
  },
  "vscode": {
   "interpreter": {
    "hash": "fb3da2d009ef323f3839fabf56a5c77c609aa2cec3de8f533d55b6936531a775"
   }
  }
 },
 "nbformat": 4,
 "nbformat_minor": 4
}
